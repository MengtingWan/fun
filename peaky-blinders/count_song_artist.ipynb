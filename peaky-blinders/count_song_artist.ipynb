{
 "metadata": {
  "language_info": {
   "codemirror_mode": {
    "name": "ipython",
    "version": 3
   },
   "file_extension": ".py",
   "mimetype": "text/x-python",
   "name": "python",
   "nbconvert_exporter": "python",
   "pygments_lexer": "ipython3",
   "version": "3.7.1-final"
  },
  "orig_nbformat": 2,
  "kernelspec": {
   "name": "python_defaultSpec_1598212973195",
   "display_name": "Python 3.7.1 64-bit"
  }
 },
 "nbformat": 4,
 "nbformat_minor": 2,
 "cells": [
  {
   "cell_type": "code",
   "execution_count": 1,
   "metadata": {},
   "outputs": [],
   "source": [
    "import requests\n",
    "import sys\n",
    "from bs4 import BeautifulSoup\n",
    "import pandas as pd\n",
    "import numpy as np"
   ]
  },
  {
   "cell_type": "code",
   "execution_count": 2,
   "metadata": {
    "tags": []
   },
   "outputs": [],
   "source": [
    "data = []\n",
    "\n",
    "url_prefix = 'https://www.tunefind.com/show/peaky-blinders/season-'\n",
    "for i in range(1, 6):\n",
    "    resp_season = requests.get(url_prefix + str(i), timeout=60)\n",
    "    html_season = BeautifulSoup(resp_season.content)\n",
    "    episodes = html_season.find_all(\"div\", {\"class\": \"EpisodeListItem__container___3A-mL\"})\n",
    "    for episode in episodes:\n",
    "        tmp0 = episode.find('a')\n",
    "        tmp1 = tmp0.text.split('·')\n",
    "        episode_name = tmp1[0].strip()+tmp1[1].strip()\n",
    "        url = \"https://www.tunefind.com\"+tmp0['href']\n",
    "        resp_episode = requests.get(url, timeout=60)\n",
    "        html_episode = BeautifulSoup(resp_episode.content)\n",
    "        songs = html_episode.find_all(\"div\", {\"class\": \"SongRow__center___1HKjk\"})\n",
    "        for song in songs:\n",
    "            try:\n",
    "                _title = song.find(\"a\", {\"class\": \"SongTitle__link___2OQHD\"})\n",
    "                _artist = song.find(\"a\", {\"class\": \"Subtitle__subtitle___1rSyh\"})\n",
    "                d = {'season': i, 'episode': episode_name, \n",
    "                    'song_title': _title.text.strip(), 'song_url': \"https://www.tunefind.com\"+_title['href'],\n",
    "                    'artist_name': _artist.text.strip(), 'artist_url': \"https://www.tunefind.com\"+_artist['href']\n",
    "                    }\n",
    "                data.append(d)\n",
    "            except:\n",
    "                pass"
   ]
  },
  {
   "cell_type": "code",
   "execution_count": 3,
   "metadata": {},
   "outputs": [],
   "source": [
    "colnames = ['season', 'episode', 'song_title', 'song_url', 'artist_name', 'artist_url']\n",
    "df_songs = []\n",
    "for d in data:\n",
    "    row = [d[k] for k in colnames]\n",
    "    df_songs.append(row)\n",
    "df_songs = pd.DataFrame(df_songs, columns=colnames)"
   ]
  },
  {
   "cell_type": "code",
   "execution_count": 4,
   "metadata": {},
   "outputs": [],
   "source": [
    "df_songs.to_csv('./df_songs.csv', index=False)"
   ]
  },
  {
   "cell_type": "code",
   "execution_count": 5,
   "metadata": {},
   "outputs": [
    {
     "output_type": "execute_result",
     "data": {
      "text/plain": "PJ Harvey                      24\nNick Cave & The Bad Seeds      20\nAnna Calvi                     12\nArctic Monkeys                 12\nThe White Stripes              10\nRadiohead                       8\nMearl                           8\nDickon Hinchliffe               8\nThe Kills                       5\nNick Cave & Warren Ellis        5\nTom Waits                       5\nLaura Marling                   4\nThe Last Shadow Puppets         4\nIDLES                           4\nThe Raconteurs                  3\nAntony Genn                     3\nRoyal Blood                     3\nJohnny Cash                     2\nBlack Sabbath                   2\nBlack Rebel Motorcycle Club     2\nName: artist_name, dtype: int64"
     },
     "metadata": {},
     "execution_count": 5
    }
   ],
   "source": [
    "df_songs['artist_name'].value_counts().head(20)"
   ]
  },
  {
   "cell_type": "code",
   "execution_count": 6,
   "metadata": {},
   "outputs": [],
   "source": [
    "df_tmp = df_songs.groupby('season')['artist_name'].value_counts()\n",
    "df_top_artists = []\n",
    "colnames = []\n",
    "for i in range(1, 6):\n",
    "    df_top_artists.append(df_tmp.loc[i].head(10).index)\n",
    "    colnames.append('S'+str(i)+'_artist')\n",
    "    df_top_artists.append(df_tmp.loc[i].head(10).values)\n",
    "    colnames.append('S'+str(i)+'_count')\n",
    "df_top_artists = pd.DataFrame(np.array(df_top_artists).transpose(),\n",
    "                              columns=colnames)\n",
    "    "
   ]
  },
  {
   "cell_type": "code",
   "execution_count": 7,
   "metadata": {},
   "outputs": [
    {
     "output_type": "execute_result",
     "data": {
      "text/plain": "                   S1_artist S1_count                    S2_artist S2_count  \\\n0  Nick Cave & The Bad Seeds       10                    PJ Harvey       21   \n1          The White Stripes       10               Arctic Monkeys        9   \n2                      Mearl        7    Nick Cave & The Bad Seeds        4   \n3   Nick Cave & Warren Ellis        5                  Royal Blood        2   \n4             The Raconteurs        3                    The Kills        2   \n5                  Tom Waits        3  APM International Orchestra        1   \n6                 Jack White        2                     Ane Brun        1   \n7          Alberto Albertini        1  Black Rebel Motorcycle Club        1   \n8               Dan Auerbach        1                 Dan Auerbach        1   \n9    Firehouse Five Plus Two        1                   Grinderman        1   \n\n                   S3_artist S3_count                        S4_artist  \\\n0          Dickon Hinchliffe        8                      Antony Genn   \n1                  Radiohead        4                    Laura Marling   \n2    The Last Shadow Puppets        4        Nick Cave & The Bad Seeds   \n3             Arctic Monkeys        3      Black Rebel Motorcycle Club   \n4  Nick Cave & The Bad Seeds        3                    Dara MacMahon   \n5                  PJ Harvey        3                           FIDLAR   \n6              Leonard Cohen        2                            Foals   \n7                  The Kills        2  Frank Carter & The Rattlesnakes   \n8                  Tom Waits        2                      Gene Austin   \n9      Archie Bronson Outfit        1                            IDLES   \n\n  S4_count       S5_artist S5_count  \n0        3      Anna Calvi       12  \n1        3           IDLES        3  \n2        3   Black Sabbath        2  \n3        1       Radiohead        2  \n4        1    Black Strobe        1  \n5        1         Cabbage        1  \n6        1       Hotel Lux        1  \n7        1     Jehnny Beth        1  \n8        1    Joy Division        1  \n9        1  Mari Samuelson        1  ",
      "text/html": "<div>\n<style scoped>\n    .dataframe tbody tr th:only-of-type {\n        vertical-align: middle;\n    }\n\n    .dataframe tbody tr th {\n        vertical-align: top;\n    }\n\n    .dataframe thead th {\n        text-align: right;\n    }\n</style>\n<table border=\"1\" class=\"dataframe\">\n  <thead>\n    <tr style=\"text-align: right;\">\n      <th></th>\n      <th>S1_artist</th>\n      <th>S1_count</th>\n      <th>S2_artist</th>\n      <th>S2_count</th>\n      <th>S3_artist</th>\n      <th>S3_count</th>\n      <th>S4_artist</th>\n      <th>S4_count</th>\n      <th>S5_artist</th>\n      <th>S5_count</th>\n    </tr>\n  </thead>\n  <tbody>\n    <tr>\n      <th>0</th>\n      <td>Nick Cave &amp; The Bad Seeds</td>\n      <td>10</td>\n      <td>PJ Harvey</td>\n      <td>21</td>\n      <td>Dickon Hinchliffe</td>\n      <td>8</td>\n      <td>Antony Genn</td>\n      <td>3</td>\n      <td>Anna Calvi</td>\n      <td>12</td>\n    </tr>\n    <tr>\n      <th>1</th>\n      <td>The White Stripes</td>\n      <td>10</td>\n      <td>Arctic Monkeys</td>\n      <td>9</td>\n      <td>Radiohead</td>\n      <td>4</td>\n      <td>Laura Marling</td>\n      <td>3</td>\n      <td>IDLES</td>\n      <td>3</td>\n    </tr>\n    <tr>\n      <th>2</th>\n      <td>Mearl</td>\n      <td>7</td>\n      <td>Nick Cave &amp; The Bad Seeds</td>\n      <td>4</td>\n      <td>The Last Shadow Puppets</td>\n      <td>4</td>\n      <td>Nick Cave &amp; The Bad Seeds</td>\n      <td>3</td>\n      <td>Black Sabbath</td>\n      <td>2</td>\n    </tr>\n    <tr>\n      <th>3</th>\n      <td>Nick Cave &amp; Warren Ellis</td>\n      <td>5</td>\n      <td>Royal Blood</td>\n      <td>2</td>\n      <td>Arctic Monkeys</td>\n      <td>3</td>\n      <td>Black Rebel Motorcycle Club</td>\n      <td>1</td>\n      <td>Radiohead</td>\n      <td>2</td>\n    </tr>\n    <tr>\n      <th>4</th>\n      <td>The Raconteurs</td>\n      <td>3</td>\n      <td>The Kills</td>\n      <td>2</td>\n      <td>Nick Cave &amp; The Bad Seeds</td>\n      <td>3</td>\n      <td>Dara MacMahon</td>\n      <td>1</td>\n      <td>Black Strobe</td>\n      <td>1</td>\n    </tr>\n    <tr>\n      <th>5</th>\n      <td>Tom Waits</td>\n      <td>3</td>\n      <td>APM International Orchestra</td>\n      <td>1</td>\n      <td>PJ Harvey</td>\n      <td>3</td>\n      <td>FIDLAR</td>\n      <td>1</td>\n      <td>Cabbage</td>\n      <td>1</td>\n    </tr>\n    <tr>\n      <th>6</th>\n      <td>Jack White</td>\n      <td>2</td>\n      <td>Ane Brun</td>\n      <td>1</td>\n      <td>Leonard Cohen</td>\n      <td>2</td>\n      <td>Foals</td>\n      <td>1</td>\n      <td>Hotel Lux</td>\n      <td>1</td>\n    </tr>\n    <tr>\n      <th>7</th>\n      <td>Alberto Albertini</td>\n      <td>1</td>\n      <td>Black Rebel Motorcycle Club</td>\n      <td>1</td>\n      <td>The Kills</td>\n      <td>2</td>\n      <td>Frank Carter &amp; The Rattlesnakes</td>\n      <td>1</td>\n      <td>Jehnny Beth</td>\n      <td>1</td>\n    </tr>\n    <tr>\n      <th>8</th>\n      <td>Dan Auerbach</td>\n      <td>1</td>\n      <td>Dan Auerbach</td>\n      <td>1</td>\n      <td>Tom Waits</td>\n      <td>2</td>\n      <td>Gene Austin</td>\n      <td>1</td>\n      <td>Joy Division</td>\n      <td>1</td>\n    </tr>\n    <tr>\n      <th>9</th>\n      <td>Firehouse Five Plus Two</td>\n      <td>1</td>\n      <td>Grinderman</td>\n      <td>1</td>\n      <td>Archie Bronson Outfit</td>\n      <td>1</td>\n      <td>IDLES</td>\n      <td>1</td>\n      <td>Mari Samuelson</td>\n      <td>1</td>\n    </tr>\n  </tbody>\n</table>\n</div>"
     },
     "metadata": {},
     "execution_count": 7
    }
   ],
   "source": [
    "df_top_artists"
   ]
  },
  {
   "cell_type": "code",
   "execution_count": null,
   "metadata": {},
   "outputs": [],
   "source": []
  }
 ]
}